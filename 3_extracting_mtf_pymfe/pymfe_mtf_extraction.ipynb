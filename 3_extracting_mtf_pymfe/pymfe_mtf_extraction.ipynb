{
 "cells": [
  {
   "cell_type": "code",
   "execution_count": 1,
   "metadata": {},
   "outputs": [],
   "source": [
    "%matplotlib inline\n",
    "import matplotlib.pyplot as plt\n",
    "import pandas as pd\n",
    "import numpy as np\n",
    "\n",
    "import pymfe.mfe\n",
    "import tspymfe._embed"
   ]
  },
  {
   "cell_type": "code",
   "execution_count": 2,
   "metadata": {},
   "outputs": [
    {
     "name": "stderr",
     "output_type": "stream",
     "text": [
      " * Warning: This Pymfe source code is to guarantee reproducibility in the experimental tests of the proposed pymfe expansion for time-series.\n",
      "   Please use only the updated version available at: https://github.com/ealcobaca/pymfe\n"
     ]
    }
   ],
   "source": [
    "# Note: using only groups that has at least one meta-feature that can be extracted\n",
    "# from a unsupervised dataset\n",
    "groups = (\"general\", \"statistical\", \"info-theory\", \"complexity\", \"itemset\", \"concept\")\n",
    "summary = (\"mean\", \"sd\", \"max\", \"min\")\n",
    "\n",
    "extractor = pymfe.mfe.MFE(features=\"all\",\n",
    "                          summary=summary,\n",
    "                          groups=groups)"
   ]
  },
  {
   "cell_type": "code",
   "execution_count": 3,
   "metadata": {},
   "outputs": [],
   "source": [
    "data_train = pd.read_csv(\"../2_exploring_subsample/subsample_train.csv\", header=0, index_col=\"timeseries_id\")\n",
    "data_test = pd.read_csv(\"../2_exploring_subsample/subsample_test.csv\", header=0, index_col=\"timeseries_id\")"
   ]
  },
  {
   "cell_type": "code",
   "execution_count": 4,
   "metadata": {},
   "outputs": [
    {
     "data": {
      "text/html": [
       "<div>\n",
       "<style scoped>\n",
       "    .dataframe tbody tr th:only-of-type {\n",
       "        vertical-align: middle;\n",
       "    }\n",
       "\n",
       "    .dataframe tbody tr th {\n",
       "        vertical-align: top;\n",
       "    }\n",
       "\n",
       "    .dataframe thead th {\n",
       "        text-align: right;\n",
       "    }\n",
       "</style>\n",
       "<table border=\"1\" class=\"dataframe\">\n",
       "  <thead>\n",
       "    <tr style=\"text-align: right;\">\n",
       "      <th></th>\n",
       "      <th>category</th>\n",
       "      <th>inst_ind</th>\n",
       "      <th>datapoints</th>\n",
       "    </tr>\n",
       "    <tr>\n",
       "      <th>timeseries_id</th>\n",
       "      <th></th>\n",
       "      <th></th>\n",
       "      <th></th>\n",
       "    </tr>\n",
       "  </thead>\n",
       "  <tbody>\n",
       "    <tr>\n",
       "      <th>e0b36e39-3872-11e8-8680-0242ac120002</th>\n",
       "      <td>Beta noise</td>\n",
       "      <td>25254</td>\n",
       "      <td>0.73617,0.99008,0.71331,0.87094,0.75527,0.9912...</td>\n",
       "    </tr>\n",
       "    <tr>\n",
       "      <th>81db0cf2-3883-11e8-8680-0242ac120002</th>\n",
       "      <td>Relative humidity</td>\n",
       "      <td>14878</td>\n",
       "      <td>95.5,79,86.75,8.75,62.75,98.75,79.74,44.75,92....</td>\n",
       "    </tr>\n",
       "    <tr>\n",
       "      <th>380eb353-387a-11e8-8680-0242ac120002</th>\n",
       "      <td>RR</td>\n",
       "      <td>6577</td>\n",
       "      <td>0.6328,0.6328,0.625,0.6328,0.625,0.625,0.6172,...</td>\n",
       "    </tr>\n",
       "    <tr>\n",
       "      <th>f33f461c-3871-11e8-8680-0242ac120002</th>\n",
       "      <td>Tremor</td>\n",
       "      <td>27821</td>\n",
       "      <td>-0.6,1.5,1.5,0.1,0.9,0.6,0.3,-0.2,0.7,1,0.1,1....</td>\n",
       "    </tr>\n",
       "    <tr>\n",
       "      <th>7bcad309-3874-11e8-8680-0242ac120002</th>\n",
       "      <td>Noisy sinusoids</td>\n",
       "      <td>14226</td>\n",
       "      <td>0.38553,0.2014,1.8705,0.47883,0.33958,0.009558...</td>\n",
       "    </tr>\n",
       "  </tbody>\n",
       "</table>\n",
       "</div>"
      ],
      "text/plain": [
       "                                               category  inst_ind  \\\n",
       "timeseries_id                                                       \n",
       "e0b36e39-3872-11e8-8680-0242ac120002         Beta noise     25254   \n",
       "81db0cf2-3883-11e8-8680-0242ac120002  Relative humidity     14878   \n",
       "380eb353-387a-11e8-8680-0242ac120002                 RR      6577   \n",
       "f33f461c-3871-11e8-8680-0242ac120002             Tremor     27821   \n",
       "7bcad309-3874-11e8-8680-0242ac120002    Noisy sinusoids     14226   \n",
       "\n",
       "                                                                             datapoints  \n",
       "timeseries_id                                                                            \n",
       "e0b36e39-3872-11e8-8680-0242ac120002  0.73617,0.99008,0.71331,0.87094,0.75527,0.9912...  \n",
       "81db0cf2-3883-11e8-8680-0242ac120002  95.5,79,86.75,8.75,62.75,98.75,79.74,44.75,92....  \n",
       "380eb353-387a-11e8-8680-0242ac120002  0.6328,0.6328,0.625,0.6328,0.625,0.625,0.6172,...  \n",
       "f33f461c-3871-11e8-8680-0242ac120002  -0.6,1.5,1.5,0.1,0.9,0.6,0.3,-0.2,0.7,1,0.1,1....  \n",
       "7bcad309-3874-11e8-8680-0242ac120002  0.38553,0.2014,1.8705,0.47883,0.33958,0.009558...  "
      ]
     },
     "execution_count": 4,
     "metadata": {},
     "output_type": "execute_result"
    }
   ],
   "source": [
    "assert data_train.shape[0] > data_test.shape[0]\n",
    "\n",
    "data_train.head()"
   ]
  },
  {
   "cell_type": "code",
   "execution_count": 5,
   "metadata": {},
   "outputs": [],
   "source": [
    "# Note: using at most the last 1024 observations of each time-series\n",
    "size_threshold = 2048\n",
    "embed_dims, embed_lags = np.zeros((2, data_train.shape[0]), dtype=np.uint16)\n",
    "\n",
    "# Note: using dummy data to get the metafeature names\n",
    "mtf_names = extractor.fit(np.arange(16).reshape(-1, 2),\n",
    "                          suppress_warnings=True).extract(suppress_warnings=True)[0]\n",
    "\n",
    "results = pd.DataFrame(index=data_train.index, columns=mtf_names)"
   ]
  },
  {
   "cell_type": "code",
   "execution_count": 6,
   "metadata": {},
   "outputs": [
    {
     "name": "stdout",
     "output_type": "stream",
     "text": [
      "Number of meta-features per dataset: 111\n",
      "['attr_conc.max', 'attr_conc.mean', 'attr_conc.min', 'attr_conc.sd', 'attr_ent.max', 'attr_ent.mean', 'attr_ent.min', 'attr_ent.sd', 'attr_to_inst', 'cat_to_num', 'cohesiveness.max', 'cohesiveness.mean', 'cohesiveness.min', 'cohesiveness.sd', 'cor.max', 'cor.mean', 'cor.min', 'cor.sd', 'cov.max', 'cov.mean', 'cov.min', 'cov.sd', 'eigenvalues.max', 'eigenvalues.mean', 'eigenvalues.min', 'eigenvalues.sd', 'g_mean.max', 'g_mean.mean', 'g_mean.min', 'g_mean.sd', 'h_mean.max', 'h_mean.mean', 'h_mean.min', 'h_mean.sd', 'inst_to_attr', 'iq_range.max', 'iq_range.mean', 'iq_range.min', 'iq_range.sd', 'kurtosis.max', 'kurtosis.mean', 'kurtosis.min', 'kurtosis.sd', 'mad.max', 'mad.mean', 'mad.min', 'mad.sd', 'max.max', 'max.mean', 'max.min', 'max.sd', 'mean.max', 'mean.mean', 'mean.min', 'mean.sd', 'median.max', 'median.mean', 'median.min', 'median.sd', 'min.max', 'min.mean', 'min.min', 'min.sd', 'nr_attr', 'nr_bin', 'nr_cat', 'nr_cor_attr', 'nr_inst', 'nr_norm', 'nr_num', 'nr_outliers', 'num_to_cat', 'one_itemset.max', 'one_itemset.mean', 'one_itemset.min', 'one_itemset.sd', 'range.max', 'range.mean', 'range.min', 'range.sd', 'sd.max', 'sd.mean', 'sd.min', 'sd.sd', 'skewness.max', 'skewness.mean', 'skewness.min', 'skewness.sd', 'sparsity.max', 'sparsity.mean', 'sparsity.min', 'sparsity.sd', 't2', 't3', 't4', 't_mean.max', 't_mean.mean', 't_mean.min', 't_mean.sd', 'two_itemset.max', 'two_itemset.mean', 'two_itemset.min', 'two_itemset.sd', 'var.max', 'var.mean', 'var.min', 'var.sd', 'wg_dist.max', 'wg_dist.mean', 'wg_dist.min', 'wg_dist.sd']\n"
     ]
    }
   ],
   "source": [
    "print(\"Number of meta-features per dataset:\", len(mtf_names))\n",
    "print(mtf_names)"
   ]
  },
  {
   "cell_type": "code",
   "execution_count": 7,
   "metadata": {},
   "outputs": [
    {
     "name": "stderr",
     "output_type": "stream",
     "text": [
      " * Warning: Mean of empty slice.\n",
      " * Warning: invalid value encountered in double_scalars\n",
      " * Warning: Mean of empty slice.\n",
      " * Warning: invalid value encountered in double_scalars\n",
      " * Warning: It is not possible make equal discretization\n",
      " * Warning: Mean of empty slice.\n",
      " * Warning: invalid value encountered in double_scalars\n",
      " * Warning: Mean of empty slice.\n",
      " * Warning: invalid value encountered in double_scalars\n",
      " * Warning: Mean of empty slice.\n",
      " * Warning: invalid value encountered in double_scalars\n",
      " * Warning: Mean of empty slice.\n",
      " * Warning: invalid value encountered in double_scalars\n",
      " * Warning: Mean of empty slice.\n",
      " * Warning: invalid value encountered in double_scalars\n",
      " * Warning: Mean of empty slice.\n",
      " * Warning: invalid value encountered in double_scalars\n",
      " * Warning: Mean of empty slice.\n",
      " * Warning: invalid value encountered in double_scalars\n",
      " * Warning: Mean of empty slice.\n",
      " * Warning: invalid value encountered in double_scalars\n"
     ]
    }
   ],
   "source": [
    "for i, (cls, _, vals) in enumerate(data_train.iloc[:10, :].values):\n",
    "    ts = np.asarray(vals.split(\",\")[-size_threshold:], dtype=float)\n",
    "    \n",
    "    embed_lags[i] = tspymfe._embed.embed_lag(ts=ts, max_nlags=16)\n",
    "    \n",
    "    embed_dims[i] = tspymfe._embed.ft_emb_dim_cao(ts=ts,\n",
    "                                                  lag=embed_lags[i],\n",
    "                                                  dims=16,\n",
    "                                                  tol_threshold=0.2)\n",
    "    \n",
    "    ts_embed = tspymfe._embed.embed_ts(ts=ts,\n",
    "                                       dim=embed_dims[i],\n",
    "                                       lag=embed_lags[i])\n",
    "    \n",
    "    extractor.fit(ts_embed, suppress_warnings=True)\n",
    "    res = extractor.extract(suppress_warnings=True)\n",
    "    results.iloc[i, :] = res[1]"
   ]
  },
  {
   "cell_type": "code",
   "execution_count": 10,
   "metadata": {},
   "outputs": [
    {
     "data": {
      "text/plain": [
       "array([ 1,  5,  1,  1,  5,  5,  1,  7,  7, 13,  0,  0,  0,  0,  0,  0,  0,\n",
       "        0,  0,  0,  0,  0,  0,  0,  0,  0,  0,  0,  0,  0,  0,  0,  0,  0,\n",
       "        0,  0,  0,  0,  0,  0,  0,  0,  0,  0,  0,  0,  0,  0,  0,  0,  0,\n",
       "        0,  0,  0,  0,  0,  0,  0,  0,  0,  0,  0,  0,  0,  0,  0,  0,  0,\n",
       "        0,  0,  0,  0,  0,  0,  0,  0,  0,  0,  0,  0,  0,  0,  0,  0,  0,\n",
       "        0,  0,  0,  0,  0,  0,  0,  0,  0,  0,  0,  0,  0,  0,  0,  0,  0,\n",
       "        0,  0,  0,  0,  0,  0,  0,  0,  0,  0,  0,  0,  0,  0,  0,  0,  0,\n",
       "        0,  0,  0,  0,  0,  0,  0,  0,  0,  0,  0,  0,  0,  0,  0,  0,  0,\n",
       "        0,  0,  0,  0,  0,  0,  0,  0,  0,  0,  0,  0,  0,  0,  0,  0,  0,\n",
       "        0,  0,  0,  0,  0,  0,  0,  0,  0,  0,  0,  0,  0,  0,  0,  0,  0,\n",
       "        0,  0,  0,  0,  0,  0,  0,  0,  0,  0,  0,  0,  0,  0,  0,  0,  0,\n",
       "        0,  0,  0,  0,  0,  0,  0,  0,  0,  0,  0,  0,  0,  0,  0,  0,  0,\n",
       "        0,  0,  0,  0,  0,  0,  0,  0,  0,  0,  0,  0,  0,  0,  0,  0,  0,\n",
       "        0,  0,  0,  0,  0,  0,  0,  0,  0,  0,  0,  0,  0,  0,  0,  0,  0,\n",
       "        0,  0,  0,  0,  0,  0,  0,  0,  0,  0,  0,  0,  0,  0,  0,  0,  0,\n",
       "        0,  0,  0,  0,  0,  0,  0,  0,  0,  0,  0,  0,  0,  0,  0,  0,  0,\n",
       "        0,  0,  0,  0,  0,  0,  0,  0,  0,  0,  0,  0,  0,  0,  0,  0,  0,\n",
       "        0,  0,  0,  0,  0,  0,  0,  0,  0,  0,  0,  0,  0,  0,  0,  0,  0,\n",
       "        0,  0,  0,  0,  0,  0,  0,  0,  0,  0,  0,  0,  0,  0,  0,  0,  0,\n",
       "        0,  0,  0,  0,  0,  0,  0,  0,  0,  0,  0,  0,  0,  0,  0,  0,  0,\n",
       "        0,  0,  0,  0,  0,  0,  0,  0,  0,  0,  0,  0,  0,  0,  0,  0,  0,\n",
       "        0,  0,  0,  0,  0,  0,  0,  0,  0,  0,  0,  0,  0,  0,  0,  0,  0,\n",
       "        0,  0,  0,  0,  0,  0,  0,  0,  0,  0,  0,  0,  0,  0,  0,  0,  0,\n",
       "        0,  0,  0,  0,  0,  0,  0,  0,  0,  0,  0,  0,  0,  0,  0,  0,  0,\n",
       "        0,  0,  0,  0,  0,  0,  0,  0,  0,  0,  0,  0,  0,  0,  0,  0,  0,\n",
       "        0,  0,  0,  0,  0,  0,  0,  0,  0,  0,  0,  0,  0,  0,  0,  0,  0,\n",
       "        0,  0,  0,  0,  0,  0,  0,  0,  0,  0,  0,  0,  0,  0,  0,  0,  0,\n",
       "        0,  0,  0,  0,  0,  0,  0,  0,  0,  0,  0,  0,  0,  0,  0,  0,  0,\n",
       "        0,  0,  0,  0,  0,  0,  0,  0,  0,  0,  0,  0,  0,  0,  0,  0,  0,\n",
       "        0,  0,  0,  0,  0,  0,  0,  0,  0,  0,  0,  0,  0,  0,  0,  0,  0,\n",
       "        0,  0,  0,  0,  0,  0,  0,  0,  0,  0,  0,  0,  0,  0,  0,  0,  0,\n",
       "        0,  0,  0,  0,  0,  0,  0,  0,  0,  0,  0,  0,  0,  0,  0,  0,  0,\n",
       "        0,  0,  0,  0,  0,  0,  0,  0,  0,  0,  0,  0,  0,  0,  0,  0,  0,\n",
       "        0,  0,  0,  0,  0,  0,  0,  0,  0,  0,  0,  0,  0,  0,  0,  0,  0,\n",
       "        0,  0,  0,  0,  0,  0,  0,  0,  0,  0,  0,  0,  0,  0,  0,  0,  0,\n",
       "        0,  0,  0,  0,  0,  0,  0,  0,  0,  0,  0,  0,  0,  0,  0,  0,  0,\n",
       "        0,  0,  0,  0,  0,  0,  0,  0,  0,  0,  0,  0,  0,  0,  0,  0,  0,\n",
       "        0,  0,  0,  0,  0,  0,  0,  0,  0,  0,  0,  0,  0,  0,  0,  0,  0,\n",
       "        0,  0,  0,  0,  0,  0,  0,  0,  0,  0,  0,  0,  0,  0,  0,  0,  0,\n",
       "        0,  0,  0,  0,  0,  0,  0,  0,  0,  0,  0,  0,  0,  0,  0,  0,  0,\n",
       "        0,  0,  0,  0,  0,  0,  0,  0,  0,  0,  0,  0,  0,  0,  0,  0,  0,\n",
       "        0,  0,  0,  0,  0,  0,  0,  0,  0,  0,  0,  0,  0,  0,  0,  0,  0,\n",
       "        0,  0,  0,  0,  0,  0,  0,  0,  0,  0,  0,  0,  0,  0,  0,  0,  0,\n",
       "        0,  0,  0,  0,  0], dtype=uint16)"
      ]
     },
     "execution_count": 10,
     "metadata": {},
     "output_type": "execute_result"
    }
   ],
   "source": []
  }
 ],
 "metadata": {
  "kernelspec": {
   "display_name": "Python 3",
   "language": "python",
   "name": "python3"
  },
  "language_info": {
   "codemirror_mode": {
    "name": "ipython",
    "version": 3
   },
   "file_extension": ".py",
   "mimetype": "text/x-python",
   "name": "python",
   "nbconvert_exporter": "python",
   "pygments_lexer": "ipython3",
   "version": "3.7.7"
  }
 },
 "nbformat": 4,
 "nbformat_minor": 2
}
