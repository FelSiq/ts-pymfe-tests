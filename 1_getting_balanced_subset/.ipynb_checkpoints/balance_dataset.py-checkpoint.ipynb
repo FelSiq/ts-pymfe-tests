{
 "cells": [
  {
   "cell_type": "markdown",
   "metadata": {},
   "source": [
    "# CompEngine dataset analysis\n",
    "## Analysis #1: create balanced train and test subsets\n",
    "\n",
    "**Project URL:** https://www.comp-engine.org/\n",
    "\n",
    "**Get data in:** https://www.comp-engine.org/#!browse\n",
    "\n",
    "**Date:** May 18 2020\n",
    "\n",
    "### Objectives:\n",
    "1. Get a subset of the most popular classes from the original data\n",
    "2. Get a balanced subset with the most common classes from the original data.\n",
    "\n",
    "### Results (please check the analysis date):\n",
    "1. The 25% most popular classes were chosen. (total of 46 distinct classes.)\n",
    "1. A subset (size 920) splitted into train subset (size 736, 80% from the total) and test subset (size 184, 20% from the total) were constructed using stratified hold-out. It means that the train set has 16 instances of each class (from the 25% most popular classes of the original data), and the test set has 4 instances of each class. Both subsets were saved into \".csv\" files named \"inds_train.txt\" and \"inds_test.txt\" for, respectively, train subset instance indices and test subset instances indices."
   ]
  },
  {
   "cell_type": "code",
   "execution_count": 1,
   "metadata": {},
   "outputs": [],
   "source": [
    "%matplotlib inline\n",
    "\n",
    "import matplotlib.pyplot as plt\n",
    "import seaborn as sns\n",
    "import numpy as  np\n",
    "import pandas as pd\n",
    "import sklearn.model_selection"
   ]
  },
  {
   "cell_type": "code",
   "execution_count": 2,
   "metadata": {},
   "outputs": [],
   "source": [
    "# Note: read only the class labels, 'category'.\n",
    "y = pd.read_csv(\"../data/comp-engine-export-metadata.20200503.csv\",\n",
    "                usecols=[\"category\", \"timeseries_id\"])"
   ]
  },
  {
   "cell_type": "code",
   "execution_count": 3,
   "metadata": {},
   "outputs": [
    {
     "name": "stdout",
     "output_type": "stream",
     "text": [
      "ECG                                 6540\n",
      "Finance                             2611\n",
      "Model M5a                           1944\n",
      "Micoeconomics                       1530\n",
      "Medical                             1091\n",
      "Autoregressive with noise            888\n",
      "Postural sway                        840\n",
      "Unassigned                           710\n",
      "Industry                             600\n",
      "Text                                 548\n",
      "Macroeconomics                       491\n",
      "Birdsong                             484\n",
      "Precipitation rate                   466\n",
      "Astrophysics                         464\n",
      "Powerlaw noise                       451\n",
      "Moving average process               360\n",
      "Music                                328\n",
      "Model M10a                           324\n",
      "RR                                   312\n",
      "Beta noise                           294\n",
      "Nonstationary autoregressive         285\n",
      "Air pressure                         276\n",
      "Relative humidity                    271\n",
      "Air temperature                      270\n",
      "Opening prices                       250\n",
      "Frietas Stochastic Sine Map          240\n",
      "High low                             237\n",
      "Damped driven pendulum               216\n",
      "Gait                                 193\n",
      "Logistic map                         193\n",
      "Driven pendulum with dissipation     190\n",
      "Like MIX(P)                          180\n",
      "Rossler Attractor                    162\n",
      "Traded volume                        159\n",
      "Demographic                          159\n",
      "Correlated noise                     144\n",
      "Model M1a                            144\n",
      "Model M8a                            140\n",
      "Noisy sinusoids                      131\n",
      "Diffusionless Lorenz Attractor       108\n",
      "Tremor                               101\n",
      "Random walk                          100\n",
      "Duffing two-well oscillator           99\n",
      "Sinai Map                             96\n",
      "Model M7a                             90\n",
      "Chirikov Map                          90\n",
      "Name: category, dtype: int64\n",
      "Total classes selected: 46\n"
     ]
    }
   ],
   "source": [
    "class_freqs = y[\"category\"].value_counts(ascending=False)\n",
    "ind_threshold = int(np.ceil(0.25 * class_freqs.size))\n",
    "selected_classes = class_freqs[:ind_threshold]\n",
    "print(selected_classes)\n",
    "print(\"Total classes selected:\", selected_classes.size)"
   ]
  },
  {
   "cell_type": "code",
   "execution_count": 4,
   "metadata": {},
   "outputs": [],
   "source": [
    "sample_size = 920 # 20 instances per class selected\n",
    "\n",
    "# Note: sanity check if it is possible that every class has the very same\n",
    "# number of instances in the subsample\n",
    "assert sample_size % selected_classes.size == 0\n",
    "\n",
    "inst_per_class = sample_size // selected_classes.size"
   ]
  },
  {
   "cell_type": "code",
   "execution_count": 5,
   "metadata": {},
   "outputs": [],
   "source": [
    "candidates_inst = y[y[\"category\"].isin(selected_classes.index)]\n",
    "\n",
    "subsample = candidates_inst.groupby(\"category\").apply(\n",
    "    lambda group: group.sample(inst_per_class, random_state=16))"
   ]
  },
  {
   "cell_type": "code",
   "execution_count": 6,
   "metadata": {},
   "outputs": [],
   "source": [
    "# Note: sanity check if subsample has the desired size\n",
    "assert subsample.shape[0] == sample_size\n",
    "\n",
    "# Note: sanity check if every class was subsampled with\n",
    "# exact the expected number of instances per class\n",
    "assert np.allclose(subsample[\"category\"].value_counts(), inst_per_class)\n",
    "\n",
    "# Note: check if random seed was not modified\n",
    "assert subsample[\"category\"].index[0] == ('Air pressure', 8016), \"Random seed changed! (use random_state=16)\""
   ]
  },
  {
   "cell_type": "code",
   "execution_count": 7,
   "metadata": {},
   "outputs": [],
   "source": [
    "test_frac = 0.20\n",
    "\n",
    "inds_train, inds_test = sklearn.model_selection.train_test_split(\n",
    "    subsample.index.rename([\"category\", \"inst_ind\"]),\n",
    "    test_size=int(subsample.shape[0] * test_frac),\n",
    "    stratify=subsample[\"category\"],\n",
    "    random_state=16)\n",
    "\n",
    "# Note: sanity check if train and test set both have the expected size\n",
    "assert inds_train.shape[0] == int(np.ceil((1 - test_frac) * subsample.shape[0]))\n",
    "assert inds_test.shape[0] == int(test_frac * subsample.shape[0])\n",
    "\n",
    "# Note: sanity check if train and test set both are perfectly balanced\n",
    "assert np.allclose(subsample.loc[inds_train][\"category\"].value_counts(), inst_per_class * 0.8)\n",
    "assert np.allclose(subsample.loc[inds_test][\"category\"].value_counts(), inst_per_class * 0.2)\n",
    "\n",
    "# Note: check if the random seed was not modified\n",
    "assert inds_train[0] == ('Beta noise', 25254), \"Random seed changed! (use random_state=16)\""
   ]
  },
  {
   "cell_type": "code",
   "execution_count": 8,
   "metadata": {},
   "outputs": [
    {
     "name": "stdout",
     "output_type": "stream",
     "text": [
      "train data size: 736 (80.0% from the total)\n",
      "test data size: 184 (20.0% from the total)\n"
     ]
    }
   ],
   "source": [
    "print(f\"train data size: {inds_train.size} \"\n",
    "      f\"({100. * inds_train.size / sample_size}% from the total)\")\n",
    "print(f\"test data size: {inds_test.size} \"\n",
    "      f\"({100. * inds_test.size / sample_size}% from the total)\")"
   ]
  },
  {
   "cell_type": "code",
   "execution_count": 9,
   "metadata": {},
   "outputs": [],
   "source": [
    "pd.DataFrame(subsample[\"timeseries_id\"].loc[inds_train], index=inds_train).to_csv(\"inds_train.csv\")\n",
    "pd.DataFrame(subsample[\"timeseries_id\"].loc[inds_test], index=inds_test).to_csv(\"inds_test.csv\")"
   ]
  }
 ],
 "metadata": {
  "kernelspec": {
   "display_name": "Python 3",
   "language": "python",
   "name": "python3"
  },
  "language_info": {
   "codemirror_mode": {
    "name": "ipython",
    "version": 3
   },
   "file_extension": ".py",
   "mimetype": "text/x-python",
   "name": "python",
   "nbconvert_exporter": "python",
   "pygments_lexer": "ipython3",
   "version": "3.7.7"
  }
 },
 "nbformat": 4,
 "nbformat_minor": 2
}
